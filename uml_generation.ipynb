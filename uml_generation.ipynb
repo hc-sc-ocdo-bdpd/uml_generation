{
 "cells": [
  {
   "attachments": {},
   "cell_type": "markdown",
   "metadata": {},
   "source": [
    "### Pyreverse Demo\n",
    "- The basic parameters for pyreverse \n",
    "    - **-p <project_name>**: Specifies the project name. This name is used in the generated output files.\n",
    "    - **-o <format**>: Defines the output format for the diagrams. Common formats include png and dot.\n",
    "    - **-c <class**>: Focuses the diagram generation on a specific class. You need to provide the class name in the format module.ClassName.\n",
    "    - **-d <directory**>: Sets the output directory for the generated files.\n",
    "    - The folder containing the files to analyze\n",
    "    \n",
    "- For more info, run `!pyreverse --help` in a cell to get the full list of paramaters "
   ]
  },
  {
   "attachments": {},
   "cell_type": "markdown",
   "metadata": {},
   "source": [
    "#### Project Folders\n",
    "- If pyreverse is run on a folder, a classes and packages diagram will be generated"
   ]
  },
  {
   "cell_type": "code",
   "execution_count": 3,
   "metadata": {},
   "outputs": [
    {
     "name": "stdout",
     "output_type": "stream",
     "text": [
      "Format png is not supported natively. Pyreverse will try to generate it using Graphviz...\n",
      "Analysed 40 modules with a total of 94 imports\n"
     ]
    }
   ],
   "source": [
    "!pyreverse -o png -p file_processing --colorized -d example_diagrams  file_processing"
   ]
  },
  {
   "attachments": {},
   "cell_type": "markdown",
   "metadata": {},
   "source": [
    "#### Specific Classes \n",
    "- You can also specify a class to generate a UML diagram for "
   ]
  },
  {
   "cell_type": "code",
   "execution_count": 4,
   "metadata": {},
   "outputs": [
    {
     "name": "stdout",
     "output_type": "stream",
     "text": [
      "Format png is not supported natively. Pyreverse will try to generate it using Graphviz...\n"
     ]
    }
   ],
   "source": [
    "!pyreverse -o png -p file_processing --colorized -c file_processing.file.File -d example_diagrams file_processing"
   ]
  }
 ],
 "metadata": {
  "kernelspec": {
   "display_name": "Python 3",
   "language": "python",
   "name": "python3"
  },
  "language_info": {
   "codemirror_mode": {
    "name": "ipython",
    "version": 3
   },
   "file_extension": ".py",
   "mimetype": "text/x-python",
   "name": "python",
   "nbconvert_exporter": "python",
   "pygments_lexer": "ipython3",
   "version": "3.8.19"
  },
  "orig_nbformat": 4
 },
 "nbformat": 4,
 "nbformat_minor": 2
}
